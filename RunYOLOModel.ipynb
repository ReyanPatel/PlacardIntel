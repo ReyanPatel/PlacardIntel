{
  "nbformat": 4,
  "nbformat_minor": 0,
  "metadata": {
    "colab": {
      "provenance": [],
      "authorship_tag": "ABX9TyPbFqxTyCoxgM9P2Bop/QHh",
      "include_colab_link": true
    },
    "kernelspec": {
      "name": "python3",
      "display_name": "Python 3"
    },
    "language_info": {
      "name": "python"
    }
  },
  "cells": [
    {
      "cell_type": "markdown",
      "metadata": {
        "id": "view-in-github",
        "colab_type": "text"
      },
      "source": [
        "<a href=\"https://colab.research.google.com/github/ReyanPatel/PlacardIntel/blob/main/RunYOLOModel.ipynb\" target=\"_parent\"><img src=\"https://colab.research.google.com/assets/colab-badge.svg\" alt=\"Open In Colab\"/></a>"
      ]
    },
    {
      "cell_type": "code",
      "execution_count": null,
      "metadata": {
        "id": "eZrg4qciuhki"
      },
      "outputs": [],
      "source": [
        "import cv2\n",
        "from picamera2 import Picamera2\n",
        "import pandas as pd\n",
        "from ultralytics import YOLO\n",
        "import cvzone\n",
        "import numpy as np\n",
        "picam2 = Picamera2()\n",
        "picam2.preview_configuration.main.size = (640,480)\n",
        "picam2.preview_configuration.main.format = \"RGB888\"\n",
        "picam2.preview_configuration.align()\n",
        "picam2.configure(\"preview\")\n",
        "picam2.start()\n",
        "# Load COCO class names\n",
        "with open(\"coco1.txt\", \"r\") as f:\n",
        "    class_names = f.read().splitlines()\n",
        "\n",
        "# Load the YOLOv8 model\n",
        "model = YOLO(\"best.pt\")\n",
        "\n",
        "# Open the video file (use video file or webcam, here using webcam)\n",
        "cap = cv2.VideoCapture(0)\n",
        "count=0\n",
        "\n",
        "\n",
        "while True:\n",
        "    frame= picam2.capture_array()\n",
        "\n",
        "    count += 1\n",
        "    if count % 3 != 0:\n",
        "        continue\n",
        "    # frame=cv2.flip(frame,-1)\n",
        "\n",
        "#    frame = cv2.resize(frame, (1020, 500))\n",
        "\n",
        "    # Run YOLOv8 tracking on the frame, persisting tracks between frames\n",
        "    results = model.track(frame, persist=True,imgsz=240)\n",
        "\n",
        "    # Check if there are any boxes in the results\n",
        "    if results[0].boxes is not None and results[0].boxes.id is not None:\n",
        "        # Get the boxes (x, y, w, h), class IDs, track IDs, and confidences\n",
        "        boxes = results[0].boxes.xyxy.int().cpu().tolist()  # Bounding boxes\n",
        "        class_ids = results[0].boxes.cls.int().cpu().tolist()  # Class IDs\n",
        "        track_ids = results[0].boxes.id.int().cpu().tolist()  # Track IDs\n",
        "        confidences = results[0].boxes.conf.cpu().tolist()  # Confidence score\n",
        "\n",
        "        for box, class_id, track_id, conf in zip(boxes, class_ids, track_ids, confidences):\n",
        "            c = class_names[class_id]\n",
        "            x1, y1, x2, y2 = box\n",
        "            cv2.rectangle(frame,(x1,y1),(x2,y2),(0,255,0),2)\n",
        "            cvzone.putTextRect(frame,f'{track_id}',(x1,y2),1,1)\n",
        "            cvzone.putTextRect(frame,f'{c}',(x1,y1),1,1)\n",
        "\n",
        "    cv2.imshow(\"RGB\", frame)\n",
        "    if cv2.waitKey(1) & 0xFF == ord(\"q\"):\n",
        "       break\n",
        "\n",
        "# Release the video capture object and close the display window\n",
        "cap.release()\n",
        "cv2.destroyAllWindows()\n",
        "\n"
      ]
    }
  ]
}